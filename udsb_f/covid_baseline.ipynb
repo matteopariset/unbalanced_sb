{
 "cells": [
  {
   "cell_type": "code",
   "execution_count": null,
   "metadata": {},
   "outputs": [],
   "source": [
    "__author__ = \"Matteo Pariset\""
   ]
  },
  {
   "cell_type": "code",
   "execution_count": 1,
   "metadata": {},
   "outputs": [],
   "source": [
    "import os\n",
    "os.environ[\"XLA_PYTHON_CLIENT_MEM_FRACTION\"] = \"0.4\""
   ]
  },
  {
   "cell_type": "code",
   "execution_count": 2,
   "metadata": {},
   "outputs": [],
   "source": [
    "import pandas as pd\n",
    "from functools import partial\n",
    "import matplotlib.pyplot as plt\n",
    "\n",
    "import jax\n",
    "import jax.numpy as jnp\n",
    "from jax import vmap, value_and_grad # type: ignore\n",
    "\n",
    "from jax import tree_map  # type: ignore\n",
    "from jax.lax import fori_loop"
   ]
  },
  {
   "cell_type": "code",
   "execution_count": 3,
   "metadata": {},
   "outputs": [],
   "source": [
    "import optax\n",
    "from scipy.interpolate import UnivariateSpline"
   ]
  },
  {
   "cell_type": "code",
   "execution_count": 4,
   "metadata": {},
   "outputs": [],
   "source": [
    "from datasets import CovidDataset\n",
    "from plotting import *"
   ]
  },
  {
   "attachments": {},
   "cell_type": "markdown",
   "metadata": {},
   "source": [
    "# Baselines for Covid evolution experiment"
   ]
  },
  {
   "cell_type": "code",
   "execution_count": 5,
   "metadata": {},
   "outputs": [
    {
     "data": {
      "text/plain": [
       "array(['Belgium', 'Brazil', 'Canada', 'Denmark', 'France', 'Germany',\n",
       "       'India', 'Ireland', 'Italy', 'Japan', 'Mexico', 'Netherlands',\n",
       "       'Poland', 'Slovenia', 'South Africa', 'Spain', 'Sweden',\n",
       "       'Switzerland', 'Turkey', 'United Kingdom', 'United States'],\n",
       "      dtype=object)"
      ]
     },
     "execution_count": 5,
     "metadata": {},
     "output_type": "execute_result"
    }
   ],
   "source": [
    "ground_truth_evolution = CovidDataset.load_ground_truth_evolution()\n",
    "\n",
    "focus_countries = [\"United States\", \"United Kingdom\", \"Germany\", \"Denmark\", \"Canada\", \"Japan\", \"France\", \"Sweden\", \"Switzerland\", \"Brazil\", \"India\", \"Netherlands\", \"Italy\", \"Turkey\", \"Spain\", \"Belgium\", \"Ireland\", \"Slovenia\", \"Mexico\", \"Poland\", \"South Africa\"]\n",
    "focus_continent = [\"Americas\",      \"Europe\",         \"Europe\",  \"Europe\",  \"Americas\",\"Asia\", \"Europe\", \"Europe\", \"Europe\",      \"Americas\",\"Asia\", \"Europe\",      \"Europe\",\"Europe\", \"Europe\",\"Europe\",  \"Europe\",  \"Europe\",   \"Americas\",\"Europe\", \"Africa\"]\n",
    "country_embs = pd.read_csv(f\"{CovidDataset.get_dataset_name()}_country_embs.csv\", index_col=0).rename_axis(\"location\", axis=0).loc[focus_countries]\n",
    "\n",
    "common_countries = country_embs.join(ground_truth_evolution, how=\"inner\").index.get_level_values(0).unique().to_numpy()"
   ]
  },
  {
   "cell_type": "code",
   "execution_count": 6,
   "metadata": {},
   "outputs": [],
   "source": [
    "# Select focus variant and focus continent\n",
    "variant_name = \"Delta\"\n",
    "continent = \"Europe\""
   ]
  },
  {
   "cell_type": "code",
   "execution_count": 7,
   "metadata": {},
   "outputs": [],
   "source": [
    "ground_truth = ground_truth_evolution.loc[pd.DataFrame({'country': focus_countries, 'continent': focus_continent}).groupby('continent').agg(list).loc[continent, \"country\"]].loc[:,variant_name]"
   ]
  },
  {
   "cell_type": "code",
   "execution_count": 8,
   "metadata": {},
   "outputs": [
    {
     "data": {
      "text/plain": [
       "date\n",
       "2021-04-05    0.000554\n",
       "2021-04-19    0.003082\n",
       "2021-05-03    0.016139\n",
       "2021-05-17    0.039794\n",
       "2021-05-31    0.082526\n",
       "2021-06-14    0.172422\n",
       "2021-06-28    0.401134\n",
       "2021-07-12    0.774248\n",
       "2021-07-26    0.891427\n",
       "2021-08-09    0.938390\n",
       "Name: Delta, dtype: float64"
      ]
     },
     "execution_count": 8,
     "metadata": {},
     "output_type": "execute_result"
    }
   ],
   "source": [
    "ground_mix = ground_truth.groupby('date').agg('mean')\n",
    "ground_mix"
   ]
  },
  {
   "cell_type": "code",
   "execution_count": 9,
   "metadata": {},
   "outputs": [],
   "source": [
    "ground_idxs = ((ground_mix.index - ground_mix.index[0]).to_series().dt.days).to_numpy()\n",
    "\n",
    "ground_dates = ground_mix.index\n",
    "\n",
    "ground_meas = ground_truth.groupby(\"date\").agg(\"mean\")"
   ]
  },
  {
   "cell_type": "code",
   "execution_count": 10,
   "metadata": {},
   "outputs": [],
   "source": [
    "# Load initial and final dates\n",
    "t0 = CovidDataset.init_date\n",
    "t1 = CovidDataset.end_date"
   ]
  },
  {
   "attachments": {},
   "cell_type": "markdown",
   "metadata": {},
   "source": [
    "## Baseline 1: SIR model"
   ]
  },
  {
   "cell_type": "code",
   "execution_count": 11,
   "metadata": {},
   "outputs": [],
   "source": [
    "SUSCEPTIBLE = 0\n",
    "INFECTED = 1\n",
    "RECOVERED = 2\n",
    "\n",
    "S_TO_I = 'beta'\n",
    "I_TO_R = 'gamma'"
   ]
  },
  {
   "cell_type": "code",
   "execution_count": 12,
   "metadata": {},
   "outputs": [],
   "source": [
    "N = 3_759_000"
   ]
  },
  {
   "cell_type": "code",
   "execution_count": 13,
   "metadata": {},
   "outputs": [],
   "source": [
    "init_params = {\n",
    "    'beta': 0.013,                     # susceptible ---> infected\n",
    "    'gamma': 0.089,                    # infected    ---> recovered\n",
    "}"
   ]
  },
  {
   "cell_type": "code",
   "execution_count": 14,
   "metadata": {},
   "outputs": [],
   "source": [
    "delta_time = .2\n",
    "def evo_step(params, state, idx=None, delta_time=delta_time):\n",
    "    delta_state = jnp.array([\n",
    "        - params[S_TO_I] * state[SUSCEPTIBLE] * state[INFECTED], \n",
    "        + params[S_TO_I] * state[SUSCEPTIBLE] * state[INFECTED] + params[I_TO_R] * state[INFECTED],\n",
    "        + params[I_TO_R] * state[INFECTED]\n",
    "    ]) * delta_time\n",
    "\n",
    "    # next_state = jnp.clip(state + delta_state, 0., 1.)\n",
    "    next_state = state + delta_state\n",
    "\n",
    "    return next_state, next_state"
   ]
  },
  {
   "cell_type": "code",
   "execution_count": 15,
   "metadata": {},
   "outputs": [],
   "source": [
    "init_date, end_date = pd.to_datetime(\"2021-04-05\"), pd.to_datetime(\"2021-08-09\")"
   ]
  },
  {
   "cell_type": "code",
   "execution_count": 16,
   "metadata": {},
   "outputs": [],
   "source": [
    "def fast_evo(params, init_state, steps_num):\n",
    "    raw_preds = jax.lax.scan(partial(evo_step, params), init_state, None, length=steps_num)[1]\n",
    "    return raw_preds"
   ]
  },
  {
   "cell_type": "code",
   "execution_count": 17,
   "metadata": {},
   "outputs": [],
   "source": [
    "init_frac = jnp.array([1-ground_mix.iloc[0], ground_mix.iloc[0], 0.])"
   ]
  },
  {
   "cell_type": "code",
   "execution_count": 18,
   "metadata": {},
   "outputs": [],
   "source": [
    "simulation_steps_num = int(126/delta_time)+1\n",
    "# simulation_steps_num = 253\n",
    "\n",
    "pred_idxs = jnp.linspace(0, 126, simulation_steps_num)\n",
    "checkpoints_mask = jnp.isin(pred_idxs, ground_idxs)\n",
    "\n",
    "assert checkpoints_mask.sum() == ground_idxs.shape[0]\n",
    "\n",
    "# seqs_num = CovidDataset.load_sequence_nums().to_numpy()\n",
    "# labels = (ground_mix[variant_name].to_numpy() * seqs_num).cumsum()\n",
    "labels = ground_mix.to_numpy() #.cumsum()\n",
    "\n",
    "def pred_mix_to_inc(preds):\n",
    "    cum_checkpoints = preds[checkpoints_mask,INFECTED]\n",
    "    inc_checkpoints = jnp.concatenate([cum_checkpoints[:1], cum_checkpoints[1:] - cum_checkpoints[:-1]])\n",
    "    # inc_num_checkpoints = seqs_num * inc_checkpoints\n",
    "    inc_num_checkpoints = inc_checkpoints\n",
    "    return inc_num_checkpoints\n",
    "\n",
    "def pred_mix_to_seqs(preds):\n",
    "    cum_checkpoints = preds[checkpoints_mask,INFECTED]\n",
    "    return cum_checkpoints\n",
    "\n",
    "\n",
    "def _sir_loss(params, init_state):\n",
    "    predicted_cum_all = fast_evo(params, init_state, simulation_steps_num)\n",
    "\n",
    "    pred_seqs_num = pred_mix_to_seqs(predicted_cum_all)\n",
    "\n",
    "    return jnp.abs(pred_seqs_num - labels).mean()\n",
    "\n",
    "sir_loss = value_and_grad(_sir_loss)"
   ]
  },
  {
   "cell_type": "code",
   "execution_count": 20,
   "metadata": {},
   "outputs": [],
   "source": [
    "opt = optax.adamw(1e-3)\n",
    "init_opt_state = opt.init(init_params)"
   ]
  },
  {
   "cell_type": "code",
   "execution_count": 21,
   "metadata": {},
   "outputs": [],
   "source": [
    "def training_step(params, init_state, opt_state):\n",
    "    loss, grad = sir_loss(params, init_state)\n",
    "\n",
    "    print(loss, end=\", \")\n",
    "\n",
    "    updates, opt_state = opt.update(grad, opt_state, params)\n",
    "    params = optax.apply_updates(params, updates)\n",
    "\n",
    "    return params, opt_state"
   ]
  },
  {
   "cell_type": "code",
   "execution_count": 22,
   "metadata": {},
   "outputs": [
    {
     "name": "stdout",
     "output_type": "stream",
     "text": [
      "16.30535, "
     ]
    },
    {
     "data": {
      "text/plain": [
       "({'beta': Array(0.01199998, dtype=float32),\n",
       "  'gamma': Array(0.08799997, dtype=float32)},\n",
       " (ScaleByAdamState(count=Array(1, dtype=int32), mu={'beta': Array(114.60082, dtype=float32, weak_type=True), 'gamma': Array(180.96594, dtype=float32, weak_type=True)}, nu={'beta': Array(1313.3348, dtype=float32, weak_type=True), 'gamma': Array(3274.8674, dtype=float32, weak_type=True)}),\n",
       "  EmptyState(),\n",
       "  EmptyState()))"
      ]
     },
     "execution_count": 22,
     "metadata": {},
     "output_type": "execute_result"
    }
   ],
   "source": [
    "params = init_params\n",
    "opt_state = init_opt_state\n",
    "training_step(params, init_frac, opt_state)"
   ]
  },
  {
   "cell_type": "code",
   "execution_count": 36,
   "metadata": {},
   "outputs": [
    {
     "name": "stdout",
     "output_type": "stream",
     "text": [
      "0.17714915, 0.17595226, 0.17487547, 0.17390409, 0.17302513, 0.1722275, 0.17150165, 0.17083926, 0.17023326, 0.16967727, "
     ]
    }
   ],
   "source": [
    "for _ in range(50):\n",
    "    params, opt_state = training_step(params, init_frac, opt_state)"
   ]
  },
  {
   "cell_type": "code",
   "execution_count": 37,
   "metadata": {},
   "outputs": [
    {
     "data": {
      "image/png": "[encoded data removed]",
      "text/plain": [
       "<Figure size 640x480 with 1 Axes>"
      ]
     },
     "metadata": {},
     "output_type": "display_data"
    }
   ],
   "source": [
    "sim_vals = fast_evo(params, init_frac, simulation_steps_num)\n",
    "\n",
    "plt.plot(pred_mix_to_seqs(sim_vals), label=\"pred I\")\n",
    "\n",
    "plt.plot(labels);\n",
    "\n",
    "plt.legend();"
   ]
  },
  {
   "attachments": {},
   "cell_type": "markdown",
   "metadata": {},
   "source": [
    "## Baseline 2: Spline interpolation"
   ]
  },
  {
   "cell_type": "code",
   "execution_count": 38,
   "metadata": {},
   "outputs": [],
   "source": [
    "sequences_evo_by_country = CovidDataset.load_sequence_nums()"
   ]
  },
  {
   "cell_type": "code",
   "execution_count": 39,
   "metadata": {},
   "outputs": [
    {
     "data": {
      "text/html": [
       "<div>\n",
       "<style scoped>\n",
       "    .dataframe tbody tr th:only-of-type {\n",
       "        vertical-align: middle;\n",
       "    }\n",
       "\n",
       "    .dataframe tbody tr th {\n",
       "        vertical-align: top;\n",
       "    }\n",
       "\n",
       "    .dataframe thead th {\n",
       "        text-align: right;\n",
       "    }\n",
       "</style>\n",
       "<table border=\"1\" class=\"dataframe\">\n",
       "  <thead>\n",
       "    <tr style=\"text-align: right;\">\n",
       "      <th></th>\n",
       "      <th>daily_confirm</th>\n",
       "    </tr>\n",
       "    <tr>\n",
       "      <th>date</th>\n",
       "      <th></th>\n",
       "    </tr>\n",
       "  </thead>\n",
       "  <tbody>\n",
       "    <tr>\n",
       "      <th>2021-04-05</th>\n",
       "      <td>0.000554</td>\n",
       "    </tr>\n",
       "    <tr>\n",
       "      <th>2021-04-19</th>\n",
       "      <td>0.003082</td>\n",
       "    </tr>\n",
       "    <tr>\n",
       "      <th>2021-05-03</th>\n",
       "      <td>0.016139</td>\n",
       "    </tr>\n",
       "    <tr>\n",
       "      <th>2021-05-17</th>\n",
       "      <td>0.039794</td>\n",
       "    </tr>\n",
       "    <tr>\n",
       "      <th>2021-05-31</th>\n",
       "      <td>0.082526</td>\n",
       "    </tr>\n",
       "    <tr>\n",
       "      <th>2021-06-14</th>\n",
       "      <td>0.172422</td>\n",
       "    </tr>\n",
       "    <tr>\n",
       "      <th>2021-06-28</th>\n",
       "      <td>0.401134</td>\n",
       "    </tr>\n",
       "    <tr>\n",
       "      <th>2021-07-12</th>\n",
       "      <td>0.774248</td>\n",
       "    </tr>\n",
       "    <tr>\n",
       "      <th>2021-07-26</th>\n",
       "      <td>0.891427</td>\n",
       "    </tr>\n",
       "    <tr>\n",
       "      <th>2021-08-09</th>\n",
       "      <td>0.938390</td>\n",
       "    </tr>\n",
       "  </tbody>\n",
       "</table>\n",
       "</div>"
      ],
      "text/plain": [
       "            daily_confirm\n",
       "date                     \n",
       "2021-04-05       0.000554\n",
       "2021-04-19       0.003082\n",
       "2021-05-03       0.016139\n",
       "2021-05-17       0.039794\n",
       "2021-05-31       0.082526\n",
       "2021-06-14       0.172422\n",
       "2021-06-28       0.401134\n",
       "2021-07-12       0.774248\n",
       "2021-07-26       0.891427\n",
       "2021-08-09       0.938390"
      ]
     },
     "execution_count": 39,
     "metadata": {},
     "output_type": "execute_result"
    }
   ],
   "source": [
    "sir_input = ground_truth.swaplevel(0,1).groupby('date').mean()\n",
    "sir_input = sir_input.apply(lambda x: x).to_frame()\n",
    "sir_input = sir_input.rename({'Delta': 'daily_confirm'}, axis=1)\n",
    "sir_input"
   ]
  },
  {
   "cell_type": "code",
   "execution_count": 40,
   "metadata": {},
   "outputs": [],
   "source": [
    "def spline_from_training(training_mask):\n",
    "    spline = UnivariateSpline((sir_input.index - t0).days[training_mask], sir_input['daily_confirm'].iloc[training_mask], k=3)\n",
    "    return spline"
   ]
  },
  {
   "cell_type": "code",
   "execution_count": 41,
   "metadata": {},
   "outputs": [],
   "source": [
    "# Train on 4 initial measurements (prediction from the past)\n",
    "past_training_set = jnp.where(jnp.array([True] * 4 + [False] * 6))\n",
    "\n",
    "# Train on 2 initial and final measurements (prediction from endpoints)\n",
    "endpoints_training_set = jnp.where(jnp.array([True] * 2 + [False] * 6 + [True] * 2))"
   ]
  },
  {
   "cell_type": "code",
   "execution_count": 42,
   "metadata": {},
   "outputs": [],
   "source": [
    "past_spline = spline_from_training(past_training_set)\n",
    "endpoints_spline = spline_from_training(endpoints_training_set)"
   ]
  },
  {
   "cell_type": "code",
   "execution_count": 43,
   "metadata": {},
   "outputs": [
    {
     "data": {
      "image/png": "[encoded data removed]",
      "text/plain": [
       "<Figure size 640x480 with 1 Axes>"
      ]
     },
     "metadata": {},
     "output_type": "display_data"
    }
   ],
   "source": [
    "plt.scatter(sir_input.index, sir_input['daily_confirm'])\n",
    "plt.plot(t0 + pd.to_timedelta(jnp.arange(0, 130), unit=\"day\"), past_spline(jnp.arange(0, 130)))\n",
    "plt.plot(t0 + pd.to_timedelta(jnp.arange(0, 130), unit=\"day\"), endpoints_spline(jnp.arange(0, 130)))\n",
    "\n",
    "plt.xticks([t0, t1]);"
   ]
  },
  {
   "attachments": {},
   "cell_type": "markdown",
   "metadata": {},
   "source": [
    "## Compare UnbalancedSB with Baselines"
   ]
  },
  {
   "cell_type": "code",
   "execution_count": 44,
   "metadata": {},
   "outputs": [
    {
     "data": {
      "image/png": "[encoded data removed]",
      "text/plain": [
       "<Figure size 640x480 with 1 Axes>"
      ]
     },
     "metadata": {},
     "output_type": "display_data"
    }
   ],
   "source": [
    "plt.scatter(sir_input.index, ground_meas, label=\"ground truth\", color=palette[0])\n",
    "\n",
    "endpoints_spline_res = pd.DataFrame({\n",
    "    'endpoints_spline': endpoints_spline(jnp.arange(0, 127))\n",
    "}, index= t0 + pd.to_timedelta(jnp.arange(0, 127), unit=\"day\"))\n",
    "\n",
    "endpoints_spline_res.plot(ax=plt.gca(), color=palette[1])\n",
    "\n",
    "past_spline_res = pd.DataFrame({\n",
    "    'past_spline': past_spline(jnp.arange(0, 127))\n",
    "}, index= t0 + pd.to_timedelta(jnp.arange(0, 127), unit=\"day\"))\n",
    "\n",
    "past_spline_res.plot(ax=plt.gca(), color=palette[1])\n",
    "\n",
    "our_res = pd.DataFrame({\n",
    "    'ours': jnp.load(\"../reproducibility/covid_v4_preds_europe.npy\"),\n",
    "}, index=(t0 + pd.to_timedelta(jnp.arange(0, 100)/100*127, unit=\"day\")).normalize())\n",
    "\n",
    "our_res.plot(ax=plt.gca(), color=palette[4])\n",
    "\n",
    "sir_res = pd.DataFrame({\n",
    "    'sir': sim_vals[:,INFECTED]\n",
    "}, index=t0 + pd.to_timedelta(pred_idxs, unit=\"day\"))\n",
    "\n",
    "sir_res.plot(ax=plt.gca(), color=palette[2])\n",
    "\n",
    "plt.legend();\n",
    "\n",
    "export_fig(\"usb_covid_baseline_comparisons_europe_delta\")"
   ]
  },
  {
   "cell_type": "code",
   "execution_count": 45,
   "metadata": {},
   "outputs": [],
   "source": [
    "def score_predictions(gap):\n",
    "    return (gap.applymap(jnp.square).mean(axis=1)).apply(jnp.sqrt)"
   ]
  },
  {
   "cell_type": "code",
   "execution_count": 46,
   "metadata": {},
   "outputs": [],
   "source": [
    "def find_closest(dates, res):\n",
    "    return dates.to_series().apply(lambda d: (res.iloc[int(jnp.where(d <= res.index)[0].min(initial=res.shape[0]-1))]+res.iloc[int(jnp.where(res.index <= d)[0].max())])/2)"
   ]
  },
  {
   "cell_type": "code",
   "execution_count": 47,
   "metadata": {},
   "outputs": [
    {
     "data": {
      "text/html": [
       "<div>\n",
       "<style scoped>\n",
       "    .dataframe tbody tr th:only-of-type {\n",
       "        vertical-align: middle;\n",
       "    }\n",
       "\n",
       "    .dataframe tbody tr th {\n",
       "        vertical-align: top;\n",
       "    }\n",
       "\n",
       "    .dataframe thead th {\n",
       "        text-align: right;\n",
       "    }\n",
       "</style>\n",
       "<table border=\"1\" class=\"dataframe\">\n",
       "  <thead>\n",
       "    <tr style=\"text-align: right;\">\n",
       "      <th>date</th>\n",
       "      <th>2021-04-05</th>\n",
       "      <th>2021-04-19</th>\n",
       "      <th>2021-05-03</th>\n",
       "      <th>2021-05-17</th>\n",
       "      <th>2021-05-31</th>\n",
       "      <th>2021-06-14</th>\n",
       "      <th>2021-06-28</th>\n",
       "      <th>2021-07-12</th>\n",
       "      <th>2021-07-26</th>\n",
       "      <th>2021-08-09</th>\n",
       "    </tr>\n",
       "  </thead>\n",
       "  <tbody>\n",
       "    <tr>\n",
       "      <th>endpoints_spline</th>\n",
       "      <td>0.000554</td>\n",
       "      <td>0.003082</td>\n",
       "      <td>0.070759</td>\n",
       "      <td>0.186557</td>\n",
       "      <td>0.333449</td>\n",
       "      <td>0.494408</td>\n",
       "      <td>0.652409</td>\n",
       "      <td>0.790424</td>\n",
       "      <td>0.891427</td>\n",
       "      <td>0.938390</td>\n",
       "    </tr>\n",
       "    <tr>\n",
       "      <th>past_spline</th>\n",
       "      <td>0.000554</td>\n",
       "      <td>0.003082</td>\n",
       "      <td>0.016139</td>\n",
       "      <td>0.039794</td>\n",
       "      <td>0.074119</td>\n",
       "      <td>0.119186</td>\n",
       "      <td>0.175065</td>\n",
       "      <td>0.241828</td>\n",
       "      <td>0.319545</td>\n",
       "      <td>0.408289</td>\n",
       "    </tr>\n",
       "    <tr>\n",
       "      <th>ours</th>\n",
       "      <td>0.000000</td>\n",
       "      <td>0.000000</td>\n",
       "      <td>0.023148</td>\n",
       "      <td>0.020643</td>\n",
       "      <td>0.032522</td>\n",
       "      <td>0.145257</td>\n",
       "      <td>0.741141</td>\n",
       "      <td>0.768908</td>\n",
       "      <td>0.836453</td>\n",
       "      <td>1.000000</td>\n",
       "    </tr>\n",
       "    <tr>\n",
       "      <th>sir</th>\n",
       "      <td>0.000560</td>\n",
       "      <td>0.001301</td>\n",
       "      <td>0.003022</td>\n",
       "      <td>0.007016</td>\n",
       "      <td>0.016289</td>\n",
       "      <td>0.037809</td>\n",
       "      <td>0.087707</td>\n",
       "      <td>0.203178</td>\n",
       "      <td>0.469136</td>\n",
       "      <td>1.074727</td>\n",
       "    </tr>\n",
       "  </tbody>\n",
       "</table>\n",
       "</div>"
      ],
      "text/plain": [
       "date              2021-04-05  2021-04-19  2021-05-03  2021-05-17  2021-05-31  \\\n",
       "endpoints_spline    0.000554    0.003082    0.070759    0.186557    0.333449   \n",
       "past_spline         0.000554    0.003082    0.016139    0.039794    0.074119   \n",
       "ours                0.000000    0.000000    0.023148    0.020643    0.032522   \n",
       "sir                 0.000560    0.001301    0.003022    0.007016    0.016289   \n",
       "\n",
       "date              2021-06-14  2021-06-28  2021-07-12  2021-07-26  2021-08-09  \n",
       "endpoints_spline    0.494408    0.652409    0.790424    0.891427    0.938390  \n",
       "past_spline         0.119186    0.175065    0.241828    0.319545    0.408289  \n",
       "ours                0.145257    0.741141    0.768908    0.836453    1.000000  \n",
       "sir                 0.037809    0.087707    0.203178    0.469136    1.074727  "
      ]
     },
     "execution_count": 47,
     "metadata": {},
     "output_type": "execute_result"
    }
   ],
   "source": [
    "preds_at_checkpoints = pd.DataFrame([\n",
    "    endpoints_spline_res.loc[ground_dates, \"endpoints_spline\"],\n",
    "    past_spline_res.loc[ground_dates, \"past_spline\"],\n",
    "    find_closest(ground_dates, our_res)['ours'],\n",
    "    find_closest(ground_dates, sir_res)['sir']\n",
    "])\n",
    "preds_at_checkpoints"
   ]
  },
  {
   "attachments": {},
   "cell_type": "markdown",
   "metadata": {},
   "source": [
    "### Compute L2 loss"
   ]
  },
  {
   "cell_type": "code",
   "execution_count": 48,
   "metadata": {},
   "outputs": [
    {
     "data": {
      "text/plain": [
       "endpoints_spline      0.1595496\n",
       "past_spline          0.30749622\n",
       "ours                0.112300806\n",
       "sir                  0.25397488\n",
       "dtype: object"
      ]
     },
     "execution_count": 48,
     "metadata": {},
     "output_type": "execute_result"
    }
   ],
   "source": [
    "score_predictions(preds_at_checkpoints - ground_meas.to_numpy())"
   ]
  }
 ],
 "metadata": {
  "kernelspec": {
   "display_name": "dsb",
   "language": "python",
   "name": "python3"
  },
  "language_info": {
   "codemirror_mode": {
    "name": "ipython",
    "version": 3
   },
   "file_extension": ".py",
   "mimetype": "text/x-python",
   "name": "python",
   "nbconvert_exporter": "python",
   "pygments_lexer": "ipython3",
   "version": "3.9.15"
  },
  "orig_nbformat": 4
 },
 "nbformat": 4,
 "nbformat_minor": 2
}
