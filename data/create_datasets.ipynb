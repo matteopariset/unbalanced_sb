{
 "cells": [
  {
   "cell_type": "code",
   "execution_count": 2,
   "metadata": {},
   "outputs": [],
   "source": [
    "import numpy as np\n",
    "import matplotlib.pyplot as plt\n",
    "import json\n",
    "\n",
    "from ipywidgets import interact, FloatSlider"
   ]
  },
  {
   "cell_type": "code",
   "execution_count": 3,
   "metadata": {},
   "outputs": [],
   "source": [
    "def patch(*args, **kwargs):\n",
    "    return args, kwargs"
   ]
  },
  {
   "cell_type": "code",
   "execution_count": 4,
   "metadata": {},
   "outputs": [],
   "source": [
    "def figure(fig_handle):\n",
    "    if fig_handle is None:\n",
    "        fig, ax = plt.subplots()\n",
    "    else:\n",
    "        fig, ax = fig_handle\n",
    "\n",
    "    return fig, ax"
   ]
  },
  {
   "cell_type": "code",
   "execution_count": 5,
   "metadata": {},
   "outputs": [],
   "source": [
    "def link_dynamic_times(attr, time):\n",
    "    if isinstance(attr, (list, tuple)):\n",
    "        return [link_dynamic_times(a, time) for a in attr]\n",
    "    elif isinstance(attr, str) and attr.find(\"@t\") > -1:\n",
    "        assert time is not None, \"Must specify time value\"\n",
    "        return eval(attr.replace(\"@t\", \"t\"), None, {\"t\": time})\n",
    "    else:\n",
    "        return attr\n",
    "\n",
    "def draw_patches(patches, time=None, fig_handle=None):\n",
    "    fig, ax = figure(fig_handle)\n",
    "    common_styles = {\n",
    "        'hatch': '/' * 8,\n",
    "        'ec': 'gray',\n",
    "        'fc': [0,0,0,0],\n",
    "        'clip_on': False,\n",
    "    }\n",
    "    # Remove existing patches\n",
    "    for old_p in ax.patches:\n",
    "        old_p.remove()\n",
    "    \n",
    "    # Add new ones\n",
    "    for p, all_args in patches:\n",
    "        patch_style = common_styles.copy()\n",
    "        patch_style.update(map(lambda it: (it[0], link_dynamic_times(it[1], time)), all_args[1].items()))\n",
    "        \n",
    "        ax.add_patch(p(*all_args[0], **patch_style))\n",
    "        ax.set_aspect('equal', adjustable='datalim')\n",
    "    return fig, ax\n",
    "\n",
    "def load_patches(dataset_name):\n",
    "    with open(f\"./data/2d/{dataset_name}-patches.json\", \"r\") as f:\n",
    "        return list(map(lambda p: (getattr(plt, p[0]), *p[1:]), json.loads(f.read())))"
   ]
  },
  {
   "cell_type": "code",
   "execution_count": 6,
   "metadata": {},
   "outputs": [],
   "source": [
    "def save_patches(dataset_name, patches):\n",
    "    with open(f\"./2d/{dataset_name}-patches.json\", \"w\") as f:\n",
    "        f.write(json.dumps(list(map(lambda p: (p[0].__name__, *p[1:]), patches))))"
   ]
  },
  {
   "attachments": {},
   "cell_type": "markdown",
   "metadata": {},
   "source": [
    "# Create sample datasets"
   ]
  },
  {
   "attachments": {},
   "cell_type": "markdown",
   "metadata": {},
   "source": [
    "### Barrier"
   ]
  },
  {
   "cell_type": "code",
   "execution_count": null,
   "metadata": {},
   "outputs": [],
   "source": [
    "np.save(\"./2d/moving_barrier-data.npy\", np.vstack([np.zeros(150) - 1., np.random.random(150) * 10]).T)\n",
    "np.save(\"./2d/moving_barrier-prior.npy\", np.vstack([np.zeros(150) + 1., np.random.random(150) * 10]).T)"
   ]
  },
  {
   "cell_type": "code",
   "execution_count": null,
   "metadata": {},
   "outputs": [
    {
     "data": {
      "image/png": "[encoded data removed]",
      "text/plain": [
       "<Figure size 432x288 with 1 Axes>"
      ]
     },
     "metadata": {},
     "output_type": "display_data"
    }
   ],
   "source": [
    "plt.scatter(*np.load(\"./2d/moving_barrier-data.npy\").T, label=\"data\")\n",
    "plt.scatter(*np.load(\"./2d/moving_barrier-prior.npy\").T, label=\"prior\")\n",
    "# plt.xlim((-5, 5))\n",
    "plt.axis(\"equal\");\n",
    "plt.legend();"
   ]
  },
  {
   "attachments": {},
   "cell_type": "markdown",
   "metadata": {},
   "source": [
    "### Barrier with hole"
   ]
  },
  {
   "cell_type": "code",
   "execution_count": 1,
   "metadata": {},
   "outputs": [],
   "source": [
    "barrier_with_hole = \"moving_barrier_with_hole\""
   ]
  },
  {
   "cell_type": "code",
   "execution_count": 4,
   "metadata": {},
   "outputs": [],
   "source": [
    "np.save(f\"./2d/{barrier_with_hole}-data.npy\", np.vstack([np.zeros(150) - 4., np.random.random(150) * 10]).T)\n",
    "end_barrier_y_coord = np.random.random(100) * 2 + (np.random.random(100) > .5) * 8\n",
    "np.save(f\"./2d/{barrier_with_hole}-prior.npy\", np.vstack([np.zeros(100) + 4., end_barrier_y_coord]).T)"
   ]
  },
  {
   "cell_type": "code",
   "execution_count": 5,
   "metadata": {},
   "outputs": [
    {
     "data": {
      "image/png": "[encoded data removed]",
      "text/plain": [
       "<Figure size 432x288 with 1 Axes>"
      ]
     },
     "metadata": {
      "needs_background": "light"
     },
     "output_type": "display_data"
    }
   ],
   "source": [
    "plt.scatter(*np.load(f\"./2d/{barrier_with_hole}-data.npy\").T, label=\"data\")\n",
    "plt.scatter(*np.load(f\"./2d/{barrier_with_hole}-prior.npy\").T, label=\"prior\")\n",
    "# plt.xlim((-5, 5))\n",
    "plt.axis(\"equal\");\n",
    "plt.legend();"
   ]
  },
  {
   "attachments": {},
   "cell_type": "markdown",
   "metadata": {},
   "source": [
    "### Double-barrier with hole"
   ]
  },
  {
   "cell_type": "code",
   "execution_count": 9,
   "metadata": {},
   "outputs": [],
   "source": [
    "start_barriers = np.concatenate([\n",
    "    np.vstack([np.zeros(100) - 4., np.random.random(100) * 10]).T,\n",
    "    np.vstack([np.zeros(50) - 6., 3 + np.random.random(50) * 4]).T\n",
    "])\n",
    "np.save(f\"./2d/{barrier_with_hole}-data.npy\", start_barriers)\n",
    "\n",
    "end_barrier_y_coord = np.random.random(100) * 2 + (np.random.random(100) > .5) * 8\n",
    "np.save(f\"./2d/{barrier_with_hole}-prior.npy\", np.vstack([np.zeros(100) + 4., end_barrier_y_coord]).T)"
   ]
  },
  {
   "cell_type": "code",
   "execution_count": 69,
   "metadata": {},
   "outputs": [],
   "source": [
    "barrier_with_hole_patches = [\n",
    "    (plt.Rectangle, patch(xy=(-5.75,3), width=1.5, height=4))\n",
    "]"
   ]
  },
  {
   "cell_type": "code",
   "execution_count": 84,
   "metadata": {},
   "outputs": [],
   "source": [
    "save_patches(barrier_with_hole, barrier_with_hole_patches)"
   ]
  },
  {
   "cell_type": "code",
   "execution_count": 72,
   "metadata": {},
   "outputs": [
    {
     "data": {
      "image/png": "[encoded data removed]",
      "text/plain": [
       "<Figure size 432x288 with 1 Axes>"
      ]
     },
     "metadata": {
      "needs_background": "light"
     },
     "output_type": "display_data"
    }
   ],
   "source": [
    "draw_patches(barrier_with_hole_patches)\n",
    "\n",
    "plt.scatter(*np.load(f\"./2d/{barrier_with_hole}-data.npy\").T, label=\"data\")\n",
    "plt.scatter(*np.load(f\"./2d/{barrier_with_hole}-prior.npy\").T, label=\"prior\")\n",
    "# plt.xlim((-5, 5))\n",
    "plt.axis(\"equal\");\n",
    "plt.legend();"
   ]
  },
  {
   "attachments": {},
   "cell_type": "markdown",
   "metadata": {},
   "source": [
    "### Dead pool"
   ]
  },
  {
   "cell_type": "code",
   "execution_count": 28,
   "metadata": {},
   "outputs": [],
   "source": [
    "dead_pool = \"dead_pool\""
   ]
  },
  {
   "cell_type": "code",
   "execution_count": 29,
   "metadata": {},
   "outputs": [],
   "source": [
    "start_groups = np.concatenate([\n",
    "    np.vstack([np.zeros(800) - 5., np.random.random(800) * 10]).T,\n",
    "    np.vstack([np.random.normal(size=(200,)) * .5, 5 + np.random.normal(size=(200,)) * .5]).T\n",
    "])\n",
    "np.save(f\"./2d/{dead_pool}-data.npy\", start_groups)\n",
    "\n",
    "end_barrier_y_coord = np.random.random(800) * 2 + (np.random.random(800) > .5) * 8\n",
    "np.save(f\"./2d/{dead_pool}-prior.npy\", np.vstack([np.zeros(800) + 5., end_barrier_y_coord]).T)"
   ]
  },
  {
   "cell_type": "code",
   "execution_count": 30,
   "metadata": {},
   "outputs": [
    {
     "data": {
      "image/png": "[encoded data removed]",
      "text/plain": [
       "<Figure size 432x288 with 1 Axes>"
      ]
     },
     "metadata": {
      "needs_background": "light"
     },
     "output_type": "display_data"
    }
   ],
   "source": [
    "plt.scatter(*np.load(f\"./2d/{dead_pool}-data.npy\").T, label=\"data\")\n",
    "plt.scatter(*np.load(f\"./2d/{dead_pool}-prior.npy\").T, label=\"prior\")\n",
    "# plt.xlim((-5, 5))\n",
    "plt.axis(\"equal\");\n",
    "plt.legend();"
   ]
  },
  {
   "cell_type": "code",
   "execution_count": 31,
   "metadata": {},
   "outputs": [],
   "source": [
    "dead_pool_patches = [\n",
    "    (plt.Circle, patch(xy=(0,5), radius=3.5)),\n",
    "    (plt.Circle, patch(xy=(0,5), radius=2, fc=\"white\", hatch=None)),\n",
    "    (plt.Rectangle, patch(xy=(4.5, 0), width=1, height=2, hatch=None, ls=':')),\n",
    "    (plt.Rectangle, patch(xy=(4.5, 8), width=1, height=2, hatch=None, ls=':')),\n",
    "    (plt.Rectangle, patch(xy=(-5.5, 0), width=1, height=10, hatch=None, ls=':')),\n",
    "]"
   ]
  },
  {
   "cell_type": "code",
   "execution_count": 32,
   "metadata": {},
   "outputs": [],
   "source": [
    "save_patches(dead_pool, dead_pool_patches)"
   ]
  },
  {
   "cell_type": "code",
   "execution_count": 33,
   "metadata": {},
   "outputs": [
    {
     "data": {
      "image/png": "[encoded data removed]",
      "text/plain": [
       "<Figure size 432x288 with 1 Axes>"
      ]
     },
     "metadata": {
      "needs_background": "light"
     },
     "output_type": "display_data"
    }
   ],
   "source": [
    "draw_patches(dead_pool_patches)\n",
    "\n",
    "plt.scatter(*np.load(f\"./2d/{dead_pool}-data.npy\").T, label=\"data\")\n",
    "plt.scatter(*np.load(f\"./2d/{dead_pool}-prior.npy\").T, label=\"prior\")\n",
    "# plt.xlim((-5, 5))\n",
    "plt.axis(\"equal\");\n",
    "plt.legend();"
   ]
  },
  {
   "attachments": {},
   "cell_type": "markdown",
   "metadata": {},
   "source": [
    "### Centered dead pool"
   ]
  },
  {
   "cell_type": "code",
   "execution_count": 36,
   "metadata": {},
   "outputs": [],
   "source": [
    "centered_dead_pool = \"unbalanced_annulus_dead_pool\""
   ]
  },
  {
   "cell_type": "code",
   "execution_count": 37,
   "metadata": {},
   "outputs": [],
   "source": [
    "start_groups = np.concatenate([\n",
    "    np.vstack([np.zeros(800), np.random.random(800) * 10 - 5]).T,\n",
    "    np.vstack([-5 + np.random.normal(size=(200,)) * .5, np.random.normal(size=(200,)) * .5]).T\n",
    "])\n",
    "np.save(f\"./2d/{centered_dead_pool}-data.npy\", start_groups)\n",
    "\n",
    "end_barrier_y_coord = -5 + np.random.random(800) * 2 + (np.random.random(800) > .5) * 8\n",
    "np.save(f\"./2d/{centered_dead_pool}-prior.npy\", np.vstack([np.zeros(800) + 5., end_barrier_y_coord]).T)"
   ]
  },
  {
   "cell_type": "code",
   "execution_count": 38,
   "metadata": {},
   "outputs": [
    {
     "data": {
      "image/png": "[encoded data removed]",
      "text/plain": [
       "<Figure size 432x288 with 1 Axes>"
      ]
     },
     "metadata": {
      "needs_background": "light"
     },
     "output_type": "display_data"
    }
   ],
   "source": [
    "plt.scatter(*np.load(f\"./2d/{centered_dead_pool}-data.npy\").T, label=\"data\")\n",
    "plt.scatter(*np.load(f\"./2d/{centered_dead_pool}-prior.npy\").T, label=\"prior\")\n",
    "# plt.xlim((-5, 5))\n",
    "plt.axis(\"equal\");\n",
    "plt.legend();"
   ]
  },
  {
   "cell_type": "code",
   "execution_count": 42,
   "metadata": {},
   "outputs": [],
   "source": [
    "centered_dead_pool_patches = [\n",
    "    (plt.Circle, patch(xy=(-5,0), radius=3.5, zorder=0)),\n",
    "    (plt.Circle, patch(xy=(-5,0), radius=2, fc=\"white\", zorder=0, hatch=None)),\n",
    "    (plt.Rectangle, patch(xy=(4.5, -5), width=1, height=2, hatch=None, ls=':')),\n",
    "    (plt.Rectangle, patch(xy=(4.5, 3), width=1, height=2, hatch=None, ls=':')),\n",
    "    (plt.Rectangle, patch(xy=(-.5, -5), width=1, height=10, hatch=None, ls=':')),\n",
    "]"
   ]
  },
  {
   "cell_type": "code",
   "execution_count": 43,
   "metadata": {},
   "outputs": [],
   "source": [
    "save_patches(centered_dead_pool, centered_dead_pool_patches)"
   ]
  },
  {
   "cell_type": "code",
   "execution_count": 44,
   "metadata": {},
   "outputs": [
    {
     "data": {
      "image/png": "[encoded data removed]",
      "text/plain": [
       "<Figure size 432x288 with 1 Axes>"
      ]
     },
     "metadata": {
      "needs_background": "light"
     },
     "output_type": "display_data"
    }
   ],
   "source": [
    "draw_patches(centered_dead_pool_patches)\n",
    "\n",
    "plt.scatter(*np.load(f\"./2d/{centered_dead_pool}-data.npy\").T, label=\"data\")\n",
    "plt.scatter(*np.load(f\"./2d/{centered_dead_pool}-prior.npy\").T, label=\"prior\")\n",
    "# plt.xlim((-5, 5))\n",
    "plt.axis(\"equal\");\n",
    "plt.legend();"
   ]
  },
  {
   "attachments": {},
   "cell_type": "markdown",
   "metadata": {},
   "source": [
    "### Moving dead pool"
   ]
  },
  {
   "cell_type": "code",
   "execution_count": 10,
   "metadata": {},
   "outputs": [],
   "source": [
    "dead_pool = \"y_moving_dead_pool\""
   ]
  },
  {
   "cell_type": "code",
   "execution_count": 11,
   "metadata": {},
   "outputs": [],
   "source": [
    "start_groups = np.concatenate([\n",
    "    np.vstack([np.zeros(800) - 5., np.random.random(800) * 10]).T,\n",
    "    np.vstack([np.random.normal(size=(200,)) * .5, 5 + np.random.normal(size=(200,)) * .5]).T\n",
    "])\n",
    "np.save(f\"./2d/{dead_pool}-data.npy\", start_groups)\n",
    "\n",
    "end_barrier_y_coord = np.random.random(800) * 2 + (np.random.random(800) > .5) * 8\n",
    "np.save(f\"./2d/{dead_pool}-prior.npy\", np.vstack([np.zeros(800) + 5., end_barrier_y_coord]).T)"
   ]
  },
  {
   "cell_type": "code",
   "execution_count": 12,
   "metadata": {},
   "outputs": [
    {
     "data": {
      "image/png": "[encoded data removed]",
      "text/plain": [
       "<Figure size 432x288 with 1 Axes>"
      ]
     },
     "metadata": {
      "needs_background": "light"
     },
     "output_type": "display_data"
    }
   ],
   "source": [
    "plt.scatter(*np.load(f\"./2d/{dead_pool}-data.npy\").T, label=\"data\")\n",
    "plt.scatter(*np.load(f\"./2d/{dead_pool}-prior.npy\").T, label=\"prior\")\n",
    "# plt.xlim((-5, 5))\n",
    "plt.axis(\"equal\");\n",
    "plt.legend();"
   ]
  },
  {
   "cell_type": "code",
   "execution_count": 13,
   "metadata": {},
   "outputs": [],
   "source": [
    "dead_pool_patches = [\n",
    "    (plt.Circle, patch(xy=(0,\"10*@t\"), radius=3.5)),\n",
    "    (plt.Circle, patch(xy=(0,\"10*@t\"), radius=2, fc=\"white\", hatch=None)),\n",
    "    (plt.Rectangle, patch(xy=(4.5, 0), width=1, height=2, hatch=None, ls=':')),\n",
    "    (plt.Rectangle, patch(xy=(4.5, 8), width=1, height=2, hatch=None, ls=':')),\n",
    "    (plt.Rectangle, patch(xy=(-5.5, 0), width=1, height=10, hatch=None, ls=':')),\n",
    "]"
   ]
  },
  {
   "cell_type": "code",
   "execution_count": 14,
   "metadata": {},
   "outputs": [],
   "source": [
    "save_patches(dead_pool, dead_pool_patches)"
   ]
  },
  {
   "cell_type": "code",
   "execution_count": 23,
   "metadata": {},
   "outputs": [
    {
     "data": {
      "application/vnd.jupyter.widget-view+json": {
       "model_id": "a7f2d861511d44fe95c9f5637c8f3b82",
       "version_major": 2,
       "version_minor": 0
      },
      "text/plain": [
       "interactive(children=(FloatSlider(value=0.0, description='time', max=1.0), Output()), _dom_classes=('widget-in…"
      ]
     },
     "metadata": {},
     "output_type": "display_data"
    }
   ],
   "source": [
    "@interact(time=FloatSlider(min=0., max=1.))\n",
    "def _dyn_plot(time):\n",
    "    fig, ax = draw_patches(dead_pool_patches, time)\n",
    "\n",
    "    ax.scatter(*np.load(f\"./2d/{dead_pool}-data.npy\").T, label=\"data\")\n",
    "    ax.scatter(*np.load(f\"./2d/{dead_pool}-prior.npy\").T, label=\"prior\")\n",
    "    \n",
    "    ax.set_aspect('equal', adjustable='datalim')\n",
    "    fig.legend();\n",
    "    fig.show();\n"
   ]
  },
  {
   "attachments": {},
   "cell_type": "markdown",
   "metadata": {},
   "source": [
    "### Rectangle deadpool"
   ]
  },
  {
   "cell_type": "code",
   "execution_count": 6,
   "metadata": {},
   "outputs": [],
   "source": [
    "rectangle_patches = [\n",
    "    (plt.Rectangle, patch(xy=(2, 0), width=1, height=10)),\n",
    "]"
   ]
  },
  {
   "cell_type": "code",
   "execution_count": 7,
   "metadata": {},
   "outputs": [
    {
     "name": "stderr",
     "output_type": "stream",
     "text": [
      "No artists with labels found to put in legend.  Note that artists whose label start with an underscore are ignored when legend() is called with no argument.\n"
     ]
    },
    {
     "data": {
      "image/png": "[encoded data removed]",
      "text/plain": [
       "<Figure size 432x288 with 1 Axes>"
      ]
     },
     "metadata": {
      "needs_background": "light"
     },
     "output_type": "display_data"
    }
   ],
   "source": [
    "draw_patches(rectangle_patches)\n",
    "plt.axis(\"equal\");\n",
    "plt.legend();"
   ]
  },
  {
   "cell_type": "code",
   "execution_count": 8,
   "metadata": {},
   "outputs": [],
   "source": [
    "save_patches(\"rectangle_dead_pool\", rectangle_patches)"
   ]
  },
  {
   "attachments": {},
   "cell_type": "markdown",
   "metadata": {},
   "source": [
    "### Rectangle birth"
   ]
  },
  {
   "cell_type": "code",
   "execution_count": 16,
   "metadata": {},
   "outputs": [],
   "source": [
    "rectangle_birth_patches = [\n",
    "    (plt.Rectangle, patch(xy=(2, -5), width=1, height=10, hatch=\"\\\\\\\\\\\\\\\\\")),\n",
    "]"
   ]
  },
  {
   "cell_type": "code",
   "execution_count": 17,
   "metadata": {},
   "outputs": [
    {
     "name": "stderr",
     "output_type": "stream",
     "text": [
      "No artists with labels found to put in legend.  Note that artists whose label start with an underscore are ignored when legend() is called with no argument.\n"
     ]
    },
    {
     "data": {
      "image/png": "[encoded data removed]",
      "text/plain": [
       "<Figure size 432x288 with 1 Axes>"
      ]
     },
     "metadata": {
      "needs_background": "light"
     },
     "output_type": "display_data"
    }
   ],
   "source": [
    "draw_patches(rectangle_birth_patches)\n",
    "plt.axis(\"equal\");\n",
    "plt.legend();"
   ]
  },
  {
   "cell_type": "code",
   "execution_count": 18,
   "metadata": {},
   "outputs": [],
   "source": [
    "save_patches(\"rectangle_birth\", rectangle_birth_patches)"
   ]
  },
  {
   "attachments": {},
   "cell_type": "markdown",
   "metadata": {},
   "source": [
    "### Rectangle death birth"
   ]
  },
  {
   "cell_type": "code",
   "execution_count": 13,
   "metadata": {},
   "outputs": [],
   "source": [
    "rectangle_death_birth_patches = [\n",
    "    (plt.Rectangle, patch(xy=(-3, -5), width=1, height=10)),\n",
    "    (plt.Rectangle, patch(xy=(2, -5), width=1, height=10, hatch=\"\\\\\\\\\\\\\\\\\")),\n",
    "]"
   ]
  },
  {
   "cell_type": "code",
   "execution_count": 14,
   "metadata": {},
   "outputs": [
    {
     "name": "stderr",
     "output_type": "stream",
     "text": [
      "No artists with labels found to put in legend.  Note that artists whose label start with an underscore are ignored when legend() is called with no argument.\n"
     ]
    },
    {
     "data": {
      "image/png": "[encoded data removed]",
      "text/plain": [
       "<Figure size 432x288 with 1 Axes>"
      ]
     },
     "metadata": {
      "needs_background": "light"
     },
     "output_type": "display_data"
    }
   ],
   "source": [
    "draw_patches(rectangle_death_birth_patches)\n",
    "plt.axis(\"equal\");\n",
    "plt.legend();"
   ]
  },
  {
   "cell_type": "code",
   "execution_count": 15,
   "metadata": {},
   "outputs": [],
   "source": [
    "save_patches(\"rectangle_death_birth\", rectangle_death_birth_patches)"
   ]
  },
  {
   "attachments": {},
   "cell_type": "markdown",
   "metadata": {},
   "source": [
    "### Split rectangle deadpool"
   ]
  },
  {
   "cell_type": "code",
   "execution_count": 7,
   "metadata": {},
   "outputs": [],
   "source": [
    "split_rectangle_patches = [\n",
    "    (plt.Rectangle, patch(xy=(0, -10), width=1, height=9)),\n",
    "    (plt.Rectangle, patch(xy=(0, 1), width=1, height=9)),\n",
    "]"
   ]
  },
  {
   "cell_type": "code",
   "execution_count": 8,
   "metadata": {},
   "outputs": [
    {
     "name": "stderr",
     "output_type": "stream",
     "text": [
      "No artists with labels found to put in legend.  Note that artists whose label start with an underscore are ignored when legend() is called with no argument.\n"
     ]
    },
    {
     "data": {
      "image/png": "[encoded data removed]",
      "text/plain": [
       "<Figure size 432x288 with 1 Axes>"
      ]
     },
     "metadata": {
      "needs_background": "light"
     },
     "output_type": "display_data"
    }
   ],
   "source": [
    "draw_patches(split_rectangle_patches)\n",
    "plt.axis(\"equal\");\n",
    "plt.legend();"
   ]
  },
  {
   "cell_type": "code",
   "execution_count": 9,
   "metadata": {},
   "outputs": [],
   "source": [
    "save_patches(\"split_rectangle_dead_pool\", split_rectangle_patches)"
   ]
  },
  {
   "attachments": {},
   "cell_type": "markdown",
   "metadata": {},
   "source": [
    "### Double strength death rectangle"
   ]
  },
  {
   "cell_type": "code",
   "execution_count": 7,
   "metadata": {},
   "outputs": [],
   "source": [
    "ds_rectangle_patches = [\n",
    "    (plt.Rectangle, patch(xy=(2, -4), width=1, height=8)),\n",
    "    (plt.Rectangle, patch(xy=(2, -5), width=1, height=1, hatch=\"///\")),\n",
    "    (plt.Rectangle, patch(xy=(2, 4), width=1, height=1, hatch=\"///\")),\n",
    "]"
   ]
  },
  {
   "cell_type": "code",
   "execution_count": 8,
   "metadata": {},
   "outputs": [
    {
     "name": "stderr",
     "output_type": "stream",
     "text": [
      "No artists with labels found to put in legend.  Note that artists whose label start with an underscore are ignored when legend() is called with no argument.\n"
     ]
    },
    {
     "data": {
      "image/png": "[encoded data removed]",
      "text/plain": [
       "<Figure size 432x288 with 1 Axes>"
      ]
     },
     "metadata": {
      "needs_background": "light"
     },
     "output_type": "display_data"
    }
   ],
   "source": [
    "draw_patches(ds_rectangle_patches)\n",
    "plt.axis(\"equal\");\n",
    "plt.legend();"
   ]
  },
  {
   "cell_type": "code",
   "execution_count": 9,
   "metadata": {},
   "outputs": [],
   "source": [
    "save_patches(\"double_strength_death_rectangle\", ds_rectangle_patches)"
   ]
  },
  {
   "attachments": {},
   "cell_type": "markdown",
   "metadata": {},
   "source": [
    "### Categorical rectangle killers"
   ]
  },
  {
   "cell_type": "code",
   "execution_count": 40,
   "metadata": {},
   "outputs": [],
   "source": [
    "cat_rectangle_patches = [\n",
    "    (plt.Rectangle, patch(xy=(-.5, -10), width=1, height=9, hatch=\"-----\")),\n",
    "    (plt.Rectangle, patch(xy=(-.5, 1), width=1, height=9, hatch=\"|||||\")),\n",
    "]"
   ]
  },
  {
   "cell_type": "code",
   "execution_count": 39,
   "metadata": {},
   "outputs": [
    {
     "name": "stderr",
     "output_type": "stream",
     "text": [
      "No artists with labels found to put in legend.  Note that artists whose label start with an underscore are ignored when legend() is called with no argument.\n"
     ]
    },
    {
     "data": {
      "image/png": "[encoded data removed]",
      "text/plain": [
       "<Figure size 432x288 with 1 Axes>"
      ]
     },
     "metadata": {
      "needs_background": "light"
     },
     "output_type": "display_data"
    }
   ],
   "source": [
    "draw_patches(cat_rectangle_patches)\n",
    "plt.axis(\"equal\");\n",
    "plt.legend();"
   ]
  },
  {
   "cell_type": "code",
   "execution_count": 16,
   "metadata": {},
   "outputs": [],
   "source": [
    "save_patches(\"categorical_split_rectangle\", cat_rectangle_patches)"
   ]
  },
  {
   "cell_type": "code",
   "execution_count": 69,
   "metadata": {},
   "outputs": [],
   "source": [
    "cat_rectangle_colored_patches = [\n",
    "    (plt.Rectangle, patch(xy=(-.5, -10), width=1, height=9, ec=\"#F2545B\", hatch=\"-----\")),\n",
    "    (plt.Rectangle, patch(xy=(-.5, 1), width=1, height=9, ec=\"#A7BED3\", hatch=\"|||||\")),\n",
    "    (plt.Rectangle, patch(xy=(-.5, -10), width=1, height=9, hatch=\"\", ec=\"black\", lw=3)),\n",
    "    (plt.Rectangle, patch(xy=(-.5, 1), width=1, height=9, hatch=\"\", ec=\"black\", lw=3)),\n",
    "]"
   ]
  },
  {
   "cell_type": "code",
   "execution_count": 71,
   "metadata": {},
   "outputs": [
    {
     "name": "stderr",
     "output_type": "stream",
     "text": [
      "No artists with labels found to put in legend.  Note that artists whose label start with an underscore are ignored when legend() is called with no argument.\n"
     ]
    },
    {
     "data": {
      "image/png": "[encoded data removed]",
      "text/plain": [
       "<Figure size 432x288 with 1 Axes>"
      ]
     },
     "metadata": {
      "needs_background": "light"
     },
     "output_type": "display_data"
    }
   ],
   "source": [
    "draw_patches(cat_rectangle_colored_patches)\n",
    "plt.axis(\"equal\");\n",
    "plt.legend();\n",
    "plt.axis(\"off\");\n",
    "\n",
    "save_patches(\"categorical_split_rectangle_colored\", cat_rectangle_colored_patches)"
   ]
  },
  {
   "attachments": {},
   "cell_type": "markdown",
   "metadata": {},
   "source": [
    "### Outlier (death)"
   ]
  },
  {
   "cell_type": "code",
   "execution_count": 7,
   "metadata": {},
   "outputs": [],
   "source": [
    "outlier_death_patches = [\n",
    "    (plt.Rectangle, patch(xy=(-2, 2), width=1, height=4)),\n",
    "]"
   ]
  },
  {
   "cell_type": "code",
   "execution_count": 8,
   "metadata": {},
   "outputs": [
    {
     "name": "stderr",
     "output_type": "stream",
     "text": [
      "No artists with labels found to put in legend.  Note that artists whose label start with an underscore are ignored when legend() is called with no argument.\n"
     ]
    },
    {
     "data": {
      "image/png": "[encoded data removed]",
      "text/plain": [
       "<Figure size 432x288 with 1 Axes>"
      ]
     },
     "metadata": {
      "needs_background": "light"
     },
     "output_type": "display_data"
    }
   ],
   "source": [
    "draw_patches(outlier_death_patches)\n",
    "plt.axis(\"equal\");\n",
    "plt.legend();"
   ]
  },
  {
   "cell_type": "code",
   "execution_count": 9,
   "metadata": {},
   "outputs": [],
   "source": [
    "save_patches(\"outlier_death\", outlier_death_patches)"
   ]
  },
  {
   "attachments": {},
   "cell_type": "markdown",
   "metadata": {},
   "source": [
    "### Outlier (death+birth)"
   ]
  },
  {
   "cell_type": "code",
   "execution_count": 14,
   "metadata": {},
   "outputs": [],
   "source": [
    "outlier_death_birth_patches = [\n",
    "    (plt.Rectangle, patch(xy=(-2, 2), width=1, height=4)),\n",
    "    (plt.Rectangle, patch(xy=(1, -2), width=1, height=4, hatch=\"\\\\\\\\\\\\\\\\\")),\n",
    "]"
   ]
  },
  {
   "cell_type": "code",
   "execution_count": 15,
   "metadata": {},
   "outputs": [
    {
     "name": "stderr",
     "output_type": "stream",
     "text": [
      "No artists with labels found to put in legend.  Note that artists whose label start with an underscore are ignored when legend() is called with no argument.\n"
     ]
    },
    {
     "data": {
      "image/png": "[encoded data removed]",
      "text/plain": [
       "<Figure size 432x288 with 1 Axes>"
      ]
     },
     "metadata": {
      "needs_background": "light"
     },
     "output_type": "display_data"
    }
   ],
   "source": [
    "draw_patches(outlier_death_birth_patches)\n",
    "plt.axis(\"equal\");\n",
    "plt.legend();"
   ]
  },
  {
   "cell_type": "code",
   "execution_count": 16,
   "metadata": {},
   "outputs": [],
   "source": [
    "save_patches(\"outlier_death_birth\", outlier_death_birth_patches)"
   ]
  },
  {
   "attachments": {},
   "cell_type": "markdown",
   "metadata": {},
   "source": [
    "### Outlier (progressive death)"
   ]
  },
  {
   "cell_type": "code",
   "execution_count": 10,
   "metadata": {},
   "outputs": [],
   "source": [
    "progressive_death_patches = [\n",
    "    (plt.Rectangle, patch(xy=(-3.5, 2), width=1, height=4)),\n",
    "    (plt.Rectangle, patch(xy=(-0.5, -2), width=1, height=4)),\n",
    "    (plt.Rectangle, patch(xy=(2.5, -6), width=1, height=4)),\n",
    "]"
   ]
  },
  {
   "cell_type": "code",
   "execution_count": 11,
   "metadata": {},
   "outputs": [
    {
     "name": "stderr",
     "output_type": "stream",
     "text": [
      "No artists with labels found to put in legend.  Note that artists whose label start with an underscore are ignored when legend() is called with no argument.\n"
     ]
    },
    {
     "data": {
      "image/png": "[encoded data removed]",
      "text/plain": [
       "<Figure size 432x288 with 1 Axes>"
      ]
     },
     "metadata": {
      "needs_background": "light"
     },
     "output_type": "display_data"
    }
   ],
   "source": [
    "draw_patches(progressive_death_patches)\n",
    "plt.axis(\"equal\");\n",
    "plt.legend();"
   ]
  },
  {
   "cell_type": "code",
   "execution_count": 12,
   "metadata": {},
   "outputs": [],
   "source": [
    "save_patches(\"progressive_death\", progressive_death_patches)"
   ]
  }
 ],
 "metadata": {
  "kernelspec": {
   "display_name": "Python 3.9.12 ('usb')",
   "language": "python",
   "name": "python3"
  },
  "language_info": {
   "codemirror_mode": {
    "name": "ipython",
    "version": 3
   },
   "file_extension": ".py",
   "mimetype": "text/x-python",
   "name": "python",
   "nbconvert_exporter": "python",
   "pygments_lexer": "ipython3",
   "version": "3.9.12"
  },
  "orig_nbformat": 4,
  "vscode": {
   "interpreter": {
    "hash": "2c69167873a79354a133a30fc6552db63291e8acf6043dadca4376797cdda35d"
   }
  }
 },
 "nbformat": 4,
 "nbformat_minor": 2
}
